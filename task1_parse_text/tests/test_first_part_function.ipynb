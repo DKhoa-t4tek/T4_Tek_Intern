{
 "cells": [
  {
   "cell_type": "code",
   "execution_count": 9,
   "metadata": {},
   "outputs": [
    {
     "data": {
      "text/html": [
       "\n",
       "    <style>\n",
       "        .output_area pre {\n",
       "            white-space: pre-wrap;\n",
       "            word-wrap: break-word;\n",
       "            max-width: 100%;\n",
       "            overflow-x: scroll;\n",
       "        }\n",
       "    </style>\n"
      ],
      "text/plain": [
       "<IPython.core.display.HTML object>"
      ]
     },
     "metadata": {},
     "output_type": "display_data"
    }
   ],
   "source": [
    "from IPython.display import display, HTML\n",
    "\n",
    "# Thiết lập scroll ngang cho output\n",
    "display(HTML('''\n",
    "    <style>\n",
    "        .output_area pre {\n",
    "            white-space: pre-wrap;\n",
    "            word-wrap: break-word;\n",
    "            max-width: 100%;\n",
    "            overflow-x: scroll;\n",
    "        }\n",
    "    </style>\n",
    "'''))\n"
   ]
  },
  {
   "cell_type": "code",
   "execution_count": 10,
   "metadata": {},
   "outputs": [
    {
     "data": {
      "text/plain": [
       "['Thửa',\n",
       " '82+94',\n",
       " '(KĐT',\n",
       " 'Bắc',\n",
       " 'Hà,',\n",
       " 'Xuân',\n",
       " 'Lâm',\n",
       " 'cổng',\n",
       " 'Trường',\n",
       " 'ĐH',\n",
       " 'Dệt',\n",
       " 'May,',\n",
       " 'Lệ',\n",
       " 'Chi,',\n",
       " 'Gia',\n",
       " 'Lâm)',\n",
       " 'Tô',\n",
       " 'Quyền',\n",
       " '457',\n",
       " 'T5',\n",
       " '40',\n",
       " '22.8',\n",
       " 'tỷ',\n",
       " 'Thuận',\n",
       " 'Thành',\n",
       " 'Bắc',\n",
       " 'Ninh',\n",
       " 'HĐ',\n",
       " 'GĐKD',\n",
       " 'Đô',\n",
       " 'Đốc',\n",
       " 'NPHN-389,',\n",
       " '0981159139,',\n",
       " 'X1000,',\n",
       " 'nguồn',\n",
       " 'ĐT10,',\n",
       " '15',\n",
       " 'đến',\n",
       " '25,',\n",
       " '#ĐC1']"
      ]
     },
     "execution_count": 10,
     "metadata": {},
     "output_type": "execute_result"
    }
   ],
   "source": [
    "string_text = \"Thửa 82+94 (KĐT Bắc Hà, Xuân Lâm cổng Trường ĐH Dệt May, Lệ Chi, Gia Lâm) Tô Quyền 457 T5 40 22.8 tỷ Thuận Thành Bắc Ninh HĐ GĐKD Đô Đốc NPHN-389, 0981159139, X1000, nguồn ĐT10, 15 đến 25, #ĐC1\"\n",
    "string_text.split(' ')"
   ]
  },
  {
   "cell_type": "code",
   "execution_count": null,
   "metadata": {},
   "outputs": [],
   "source": []
  }
 ],
 "metadata": {
  "kernelspec": {
   "display_name": "Python 3",
   "language": "python",
   "name": "python3"
  },
  "language_info": {
   "codemirror_mode": {
    "name": "ipython",
    "version": 3
   },
   "file_extension": ".py",
   "mimetype": "text/x-python",
   "name": "python",
   "nbconvert_exporter": "python",
   "pygments_lexer": "ipython3",
   "version": "3.10.11"
  }
 },
 "nbformat": 4,
 "nbformat_minor": 2
}
